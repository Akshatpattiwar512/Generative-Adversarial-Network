{
  "nbformat": 4,
  "nbformat_minor": 0,
  "metadata": {
    "colab": {
      "name": "Semi-Supervised-GAN :  MNIST Handwritten Digit ",
      "provenance": [],
      "authorship_tag": "ABX9TyOlgybpTfsqUAL7UVrMeTKs",
      "include_colab_link": true
    },
    "kernelspec": {
      "name": "python3",
      "display_name": "Python 3"
    },
    "language_info": {
      "name": "python"
    }
  },
  "cells": [
    {
      "cell_type": "markdown",
      "metadata": {
        "id": "view-in-github",
        "colab_type": "text"
      },
      "source": [
        "<a href=\"https://colab.research.google.com/github/Akshatpattiwar512/Generative-Adversarial-Network/blob/main/Semi_Supervised_GAN_MNIST_Handwritten_Digit.ipynb\" target=\"_parent\"><img src=\"https://colab.research.google.com/assets/colab-badge.svg\" alt=\"Open In Colab\"/></a>"
      ]
    },
    {
      "cell_type": "code",
      "metadata": {
        "id": "yrRTprnSmxS3"
      },
      "source": [
        "import numpy as np\n",
        "import tensorflow as tf\n",
        "import keras\n",
        "from keras.layers import Dense,Conv2D,Conv2DTranspose,Input,Reshape,Activation,Lambda\n",
        "from keras.layers.advanced_activations import LeakyReLU\n",
        "from tensorflow.keras.utils import to_categorical\n",
        "from keras.optimizers import Adam\n",
        "from keras.layers import BatchNormalization,Dropout,Flatten\n",
        "from keras.datasets import mnist\n",
        "from keras.models import Sequential,Model\n",
        "import keras.backend as K\n",
        "import matplotlib.pyplot as plt\n",
        "\n",
        "import numpy as np\n",
        "import tensorflow as tf\n",
        "import keras\n",
        "from keras.layers import Dense,Conv2D,Conv2DTranspose,Input,Reshape,Activation,Lambda\n",
        "from keras.layers.advanced_activations import LeakyReLU\n",
        "from keras.optimizers import Adam\n",
        "from keras.layers import BatchNormalization,Dropout,Flatten\n",
        "from keras.datasets import mnist\n",
        "from keras.models import Sequential,Model\n",
        "import keras.backend as K\n",
        "import matplotlib.pyplot as plt"
      ],
      "execution_count": 15,
      "outputs": []
    },
    {
      "cell_type": "code",
      "metadata": {
        "id": "8qwx4Ha6mzc2"
      },
      "source": [
        "img_rows = 28\n",
        "img_cols = 28\n",
        "channels = 1\n",
        " \n",
        "img_shape = (img_rows,img_cols,channels)\n",
        " \n",
        "z_dim = 100\n",
        "num_classes = 10"
      ],
      "execution_count": 2,
      "outputs": []
    },
    {
      "cell_type": "code",
      "metadata": {
        "colab": {
          "base_uri": "https://localhost:8080/",
          "height": 349
        },
        "id": "Y6TJRQolm1Bf",
        "outputId": "1fcf3e45-edaf-4879-edb2-df3b648ba889"
      },
      "source": [
        "class Dataset:\n",
        "  def __init__(self,num_labeled,num_classes):\n",
        "    self.num_labeled = num_labeled\n",
        "    self.num_classes = num_classes\n",
        "    (self.x_train,self.y_train),(self.x_test,self.y_test) = mnist.load_data()\n",
        "  \n",
        "    def preprocess_image(x):\n",
        "      x = (x.astype(np.float32)-127.5)/127.5\n",
        "      x = np.expand_dims(x,axis=-1)\n",
        "      return x\n",
        "  \n",
        "    def preprocess_labels(y):\n",
        "      return y.reshape((-1,1))\n",
        "    self.x_train = preprocess_image(self.x_train)\n",
        "    print(np.min(self.x_train))\n",
        "    self.y_train = preprocess_labels(self.y_train)\n",
        "    self.x_test = preprocess_image(self.x_test)\n",
        "    self.y_test = preprocess_labels(self.y_test)\n",
        " \n",
        "  def batch_labeled(self,batch_size):\n",
        " \n",
        "    sample_per_class = int(self.num_labeled/self.num_classes)\n",
        "    imgs = list()\n",
        "    labels = list()\n",
        "    for i in range(sample_per_class):\n",
        "      idx = self.y_train==i\n",
        "      idx = [i for i, x in enumerate(idx) if x]\n",
        "      x_classes= self.x_train[idx]\n",
        "      y_classes = self.y_train[idx]\n",
        "      #index = np.random.randint(0,x_classes.shape[0],sample_per_class)\n",
        "      index = np.arange(sample_per_class)\n",
        "      x_imgs = x_classes[index]\n",
        "      y_imgs = y_classes[index]\n",
        "      \n",
        "      #print(x_imgs.shape)\n",
        "      [imgs.append(x_imgs[j]) for j in index ]\n",
        "      [labels.append(y_imgs[j]) for j in range(num_classes)]\n",
        " \n",
        "    imgs = np.asarray(imgs)\n",
        "    \n",
        "    labels = np.asarray(labels)\n",
        "    #print(labels)\n",
        " \n",
        "    ix  = np.random.randint(0,self.num_labeled,batch_size)\n",
        "    imgs = imgs[ix]\n",
        "    labels = labels[ix]\n",
        "    #print(labels.shape)\n",
        "    return imgs,labels\n",
        " \n",
        "  def batch_unlabeled(self,batch_size):\n",
        "    idx = np.random.randint(self.num_labeled,self.x_train.shape[0],batch_size)\n",
        "    imgs = self.x_train[idx]\n",
        "    return imgs\n",
        " \n",
        "  def training_set(self):\n",
        "     x_train = self.x_train[range(self.num_labeled)]  \n",
        "     y_train = self.y_train[range(self.num_labeled)]\n",
        "     return x_train ,y_train\n",
        "  def testing_set(self):\n",
        "    return self.x_test,self.y_test\n",
        " \n",
        "num_labeled = 100\n",
        "num_classes = 10\n",
        "dataset = Dataset(num_labeled,num_classes)\n",
        "i= dataset.batch_unlabeled(32)\n",
        "plt.imshow(i[0,:,:,0],cmap='gray')\n",
        "#print(l[0])"
      ],
      "execution_count": 3,
      "outputs": [
        {
          "output_type": "stream",
          "text": [
            "Downloading data from https://storage.googleapis.com/tensorflow/tf-keras-datasets/mnist.npz\n",
            "11493376/11490434 [==============================] - 0s 0us/step\n",
            "11501568/11490434 [==============================] - 0s 0us/step\n",
            "-1.0\n"
          ],
          "name": "stdout"
        },
        {
          "output_type": "execute_result",
          "data": {
            "text/plain": [
              "<matplotlib.image.AxesImage at 0x7f69605b1950>"
            ]
          },
          "metadata": {
            "tags": []
          },
          "execution_count": 3
        },
        {
          "output_type": "display_data",
          "data": {
            "image/png": "[encoded data removed]",
            "text/plain": [
              "<Figure size 432x288 with 1 Axes>"
            ]
          },
          "metadata": {
            "tags": [],
            "needs_background": "light"
          }
        }
      ]
    },
    {
      "cell_type": "code",
      "metadata": {
        "id": "qDkmQ94Fm3kZ"
      },
      "source": [
        "def build_generator(z_dim):\n",
        "  model = Sequential()\n",
        "  model.add(Dense(256*7*7,input_dim=z_dim))\n",
        "  model.add(Reshape((7,7,256)))\n",
        "  model.add(Conv2DTranspose(128,kernel_size=3,strides=2,padding='same'))\n",
        "  model.add(BatchNormalization())\n",
        "  model.add(LeakyReLU(alpha=0.01))\n",
        "  model.add(Conv2DTranspose(64,kernel_size=3,strides=1,padding='same'))\n",
        "  model.add(BatchNormalization())\n",
        "  model.add(LeakyReLU(alpha=0.01))\n",
        "  model.add(Conv2DTranspose(1,kernel_size=(3,3),strides=2,padding='same',activation='tanh'))\n",
        "  #model.add(Activation('tanh'))\n",
        "\n",
        "  return model"
      ],
      "execution_count": 4,
      "outputs": []
    },
    {
      "cell_type": "code",
      "metadata": {
        "id": "-QVP9H2Vm58o"
      },
      "source": [
        "def build_discriminator(img_shape):\n",
        "  inp = Input(shape=img_shape)\n",
        "\n",
        "  X = Conv2D(32,kernel_size=(3,3),strides=2,input_shape=img_shape,padding='same')(inp)\n",
        "  X = LeakyReLU(alpha=0.01)(X)\n",
        "  X = Conv2D(64,kernel_size=(3,3),strides=2,padding='same')(X)\n",
        "  X = BatchNormalization()(X)\n",
        "  X = LeakyReLU(alpha=0.01)(X)\n",
        "  X = Conv2D(128,kernel_size=(3,3),strides=2,padding='same')(X)\n",
        "  X = BatchNormalization()(X)\n",
        "  X = LeakyReLU(alpha=0.01)(X)\n",
        "  X = Flatten(name=\"flatten\")(X)\n",
        "  X = Dropout(0.5)(X)\n",
        "  X = Dense(num_classes)(X)\n",
        "  model = Model(inputs=inp,outputs=X)\n",
        "  return model"
      ],
      "execution_count": 5,
      "outputs": []
    },
    {
      "cell_type": "code",
      "metadata": {
        "id": "HVmnYJeLm7p3"
      },
      "source": [
        "def build_discriminator_supervised(discriminator):\n",
        "  model = Sequential()\n",
        "  model.add(discriminator)\n",
        "  model.add(Activation('softmax'))\n",
        "  return model"
      ],
      "execution_count": 6,
      "outputs": []
    },
    {
      "cell_type": "code",
      "metadata": {
        "id": "WuZrFGdHm_uu"
      },
      "source": [
        "def build_discriminator_unsupervised(discriminator):\n",
        "  model = Sequential()\n",
        "  model.add(discriminator)\n",
        "  def custom_activation(x):\n",
        "        \n",
        "    prediction = 1.0 - (1.0 /\n",
        "                           (K.sum(K.exp(x), axis=-1, keepdims=True) + 1.0))\n",
        "    return prediction\n",
        "  model.add(Lambda(custom_activation))\n",
        "  \n",
        "  return model"
      ],
      "execution_count": 7,
      "outputs": []
    },
    {
      "cell_type": "code",
      "metadata": {
        "id": "sLrh9mN_nBtY"
      },
      "source": [
        "discriminator = build_discriminator(img_shape)\n",
        "discriminator_supervised = build_discriminator_supervised(discriminator)\n",
        "discriminator_supervised.compile(optimizer= Adam(learning_rate=0.001),loss=\"categorical_crossentropy\",metrics=['accuracy'])\n",
        "discriminator_unsupervised = build_discriminator_unsupervised(discriminator)\n",
        "discriminator_unsupervised.compile(optimizer = Adam(learning_rate=0.001),loss='binary_crossentropy',metrics=['accuracy'])\n",
        "generator = build_generator(z_dim)\n",
        "discriminator_unsupervised.trainable = False\n",
        "gan = build_gan(generator,discriminator_unsupervised)\n",
        "gan.compile(optimizer=Adam(learning_rate=0.001),loss='binary_crossentropy',metrics=['accuracy'])"
      ],
      "execution_count": 12,
      "outputs": []
    },
    {
      "cell_type": "code",
      "metadata": {
        "id": "-M5lTT6Bqn22"
      },
      "source": [
        "x_test,y_test = dataset.testing_set()\n",
        "y_test = to_categorical(y_test,num_classes)"
      ],
      "execution_count": 20,
      "outputs": []
    },
    {
      "cell_type": "code",
      "metadata": {
        "id": "dnRqdqh-nDLl"
      },
      "source": [
        "supervised_losses = []\n",
        "iteration_checkpoints = []\n",
        "accuracies = []\n",
        "val_losses = []\n",
        "def train(iterations,batch_size,sample_interval):\n",
        "\n",
        "  real = np.ones((batch_size,1))\n",
        "  fake = np.zeros((batch_size,1))\n",
        "\n",
        "  for iteration in range(iterations):\n",
        "    imgs,labels = dataset.batch_labeled(batch_size)\n",
        "    \n",
        "    #print(labels)\n",
        "    labels = to_categorical(labels,num_classes=num_classes)\n",
        "\n",
        "    unlabeled_imgs = dataset.batch_unlabeled(batch_size)\n",
        "\n",
        "    z = np.random.normal(0,1,(batch_size,z_dim))\n",
        "    \n",
        "    fake_imgs = generator.predict(z)\n",
        "    #print(fake_imgs.shape)\n",
        "\n",
        "    d_supervised_loss,accuracy = discriminator_supervised.train_on_batch(imgs,labels)\n",
        "    d_unsupervised_loss_real = discriminator_unsupervised.train_on_batch(unlabeled_imgs,real)\n",
        "    d_unsupervised_loss_fake = discriminator_unsupervised.train_on_batch(fake_imgs,fake)\n",
        "    d_unsupervised_loss = 0.5*np.add(d_unsupervised_loss_real,d_unsupervised_loss_fake)\n",
        "\n",
        "    z = np.random.normal(0,1,(batch_size,z_dim))\n",
        "    fake_imgs = generator.predict(z)\n",
        "    generator_loss = gan.train_on_batch(z,real)\n",
        "\n",
        "    \n",
        "    if(iteration+1) % sample_interval ==0:\n",
        "      supervised_losses.append(d_supervised_loss)\n",
        "      accuracies.append(100*accuracy)\n",
        "      iteration_checkpoints.append(iteration+1)\n",
        "      val_loss = discriminator_supervised.evaluate(x=x_test,y=y_test,verbose=0)\n",
        "      val_losses.append(val_loss[0])\n",
        "      print(\"Iteration No.:\",iteration+1,end=\",\")\n",
        "      print(\"Discriminator Supervised Loss:\",d_supervised_loss,end=',')\n",
        "      print('Generator Loss:',generator_loss,end=\",\")\n",
        "      print('Discriminator Unsuperived Loss:',d_unsupervised_loss,sep=',')\n",
        "      print('val_loss:',val_loss,sep=',')\n",
        "      print('Accuracy Supervised:',100*accuracy)\n",
        "      #sample_images(generator)"
      ],
      "execution_count": 17,
      "outputs": []
    },
    {
      "cell_type": "code",
      "metadata": {
        "id": "2M1mPUXUnE4i"
      },
      "source": [
        "discriminator = build_discriminator(img_shape)\n",
        "discriminator_supervised = build_discriminator_supervised(discriminator)\n",
        "discriminator_supervised.compile(optimizer= Adam(learning_rate=0.001),loss=\"categorical_crossentropy\",metrics=['accuracy'])\n",
        "discriminator_unsupervised = build_discriminator_unsupervised(discriminator)\n",
        "discriminator_unsupervised.compile(optimizer = Adam(learning_rate=0.001),loss='binary_crossentropy',metrics=['accuracy'])"
      ],
      "execution_count": 18,
      "outputs": []
    },
    {
      "cell_type": "code",
      "metadata": {
        "colab": {
          "base_uri": "https://localhost:8080/"
        },
        "id": "ZkmYYmeLoivN",
        "outputId": "9efbce83-2381-4d5c-f64b-a0caedcfdb93"
      },
      "source": [
        "iterations = 6000\n",
        "batch_size = 32\n",
        "sample_interval = 500\n",
        "train(iterations,batch_size,sample_interval)"
      ],
      "execution_count": 21,
      "outputs": [
        {
          "output_type": "stream",
          "text": [
            "Iteration No.: 500,Discriminator Supervised Loss: 0.0001934442261699587,Generator Loss: [0.06656524538993835, 1.0],Discriminator Unsuperived Loss:,[7.89881551e-06 1.00000000e+00]\n",
            "val_loss:,[1.1385092735290527, 0.7070000171661377]\n",
            "Accuracy Supervised: 100.0\n",
            "Iteration No.: 1000,Discriminator Supervised Loss: 0.0003761963453143835,Generator Loss: [0.06670080125331879, 1.0],Discriminator Unsuperived Loss:,[2.98777422e-06 1.00000000e+00]\n",
            "val_loss:,[1.220682144165039, 0.6991000175476074]\n",
            "Accuracy Supervised: 100.0\n",
            "Iteration No.: 1500,Discriminator Supervised Loss: 0.00023233090178109705,Generator Loss: [0.06565605103969574, 1.0],Discriminator Unsuperived Loss:,[3.29973602e-06 1.00000000e+00]\n",
            "val_loss:,[1.2437576055526733, 0.7016000151634216]\n",
            "Accuracy Supervised: 100.0\n",
            "Iteration No.: 2000,Discriminator Supervised Loss: 0.00014753594587091357,Generator Loss: [0.0670178085565567, 1.0],Discriminator Unsuperived Loss:,[8.77129793e-06 1.00000000e+00]\n",
            "val_loss:,[1.2529008388519287, 0.7050999999046326]\n",
            "Accuracy Supervised: 100.0\n",
            "Iteration No.: 2500,Discriminator Supervised Loss: 1.8428188923280686e-05,Generator Loss: [0.06642018258571625, 1.0],Discriminator Unsuperived Loss:,[2.77534681e-07 1.00000000e+00]\n",
            "val_loss:,[1.2671242952346802, 0.7074000239372253]\n",
            "Accuracy Supervised: 100.0\n",
            "Iteration No.: 3000,Discriminator Supervised Loss: 4.8110192437889054e-05,Generator Loss: [0.06706296652555466, 1.0],Discriminator Unsuperived Loss:,[3.56699617e-07 1.00000000e+00]\n",
            "val_loss:,[1.3107032775878906, 0.7041000127792358]\n",
            "Accuracy Supervised: 100.0\n",
            "Iteration No.: 3500,Discriminator Supervised Loss: 2.5129313144134358e-05,Generator Loss: [0.0666031762957573, 1.0],Discriminator Unsuperived Loss:,[2.76604681e-07 1.00000000e+00]\n",
            "val_loss:,[1.3154222965240479, 0.704800009727478]\n",
            "Accuracy Supervised: 100.0\n",
            "Iteration No.: 4000,Discriminator Supervised Loss: 8.299853107018862e-06,Generator Loss: [0.06574244797229767, 1.0],Discriminator Unsuperived Loss:,[2.09547921e-07 1.00000000e+00]\n",
            "val_loss:,[1.3341553211212158, 0.70660001039505]\n",
            "Accuracy Supervised: 100.0\n",
            "Iteration No.: 4500,Discriminator Supervised Loss: 2.6084675482707098e-05,Generator Loss: [0.06558719277381897, 1.0],Discriminator Unsuperived Loss:,[1.86264586e-08 1.00000000e+00]\n",
            "val_loss:,[1.3482635021209717, 0.7059000134468079]\n",
            "Accuracy Supervised: 100.0\n",
            "Iteration No.: 5000,Discriminator Supervised Loss: 5.9082112784381025e-06,Generator Loss: [0.06572428345680237, 1.0],Discriminator Unsuperived Loss:,[1.21071952e-08 1.00000000e+00]\n",
            "val_loss:,[1.3719035387039185, 0.7081999778747559]\n",
            "Accuracy Supervised: 100.0\n",
            "Iteration No.: 5500,Discriminator Supervised Loss: 1.3347006643016357e-05,Generator Loss: [0.06674657762050629, 1.0],Discriminator Unsuperived Loss:,[2.79396795e-09 1.00000000e+00]\n",
            "val_loss:,[1.3586223125457764, 0.7113000154495239]\n",
            "Accuracy Supervised: 100.0\n",
            "Iteration No.: 6000,Discriminator Supervised Loss: 5.133308150107041e-06,Generator Loss: [0.06578648090362549, 1.0],Discriminator Unsuperived Loss:,[9.31322575e-10 1.00000000e+00]\n",
            "val_loss:,[1.4198271036148071, 0.7042999863624573]\n",
            "Accuracy Supervised: 100.0\n"
          ],
          "name": "stdout"
        }
      ]
    },
    {
      "cell_type": "code",
      "metadata": {
        "colab": {
          "base_uri": "https://localhost:8080/"
        },
        "id": "E0ZILQBVokaT",
        "outputId": "ce74b452-f82d-42a8-d45c-f2fa739bfa93"
      },
      "source": [
        "_,accuracy = discriminator_supervised.evaluate(x_test,y_test)\n",
        "print(\"Test Accuracy:\",accuracy)"
      ],
      "execution_count": 22,
      "outputs": [
        {
          "output_type": "stream",
          "text": [
            "313/313 [==============================] - 2s 7ms/step - loss: 1.4198 - accuracy: 0.7043\n",
            "Test Accuracy: 0.7042999863624573\n"
          ],
          "name": "stdout"
        }
      ]
    },
    {
      "cell_type": "code",
      "metadata": {
        "colab": {
          "base_uri": "https://localhost:8080/",
          "height": 248
        },
        "id": "YTaQ4UWkoqMy",
        "outputId": "8edc5ad0-4368-4d13-ab3d-af7966cee0ce"
      },
      "source": [
        "n_rows = 4\n",
        "fig,axs = plt.subplots(n_rows,n_rows,figsize=(4,4),sharex=True,sharey=True)\n",
        "z = np.random.normal(0,1,(n_rows**2,z_dim))\n",
        "#z = z/2 + 0.5\n",
        "gen_imgs = generator.predict(z)\n",
        "gen_imgs = gen_imgs/2 + 0.5\n",
        "count = 0\n",
        "for i in range(n_rows):\n",
        "  for j in range(n_rows):\n",
        "    axs[i,j].imshow(gen_imgs[count,:,:,0],cmap='gray')\n",
        "    count = count + 1\n",
        "    axs[i,j].axis('off')"
      ],
      "execution_count": 27,
      "outputs": [
        {
          "output_type": "display_data",
          "data": {
            "image/png": "[encoded data removed]",
            "text/plain": [
              "<Figure size 288x288 with 16 Axes>"
            ]
          },
          "metadata": {
            "tags": [],
            "needs_background": "light"
          }
        }
      ]
    },
    {
      "cell_type": "code",
      "metadata": {
        "id": "ioLwlqsPosJh"
      },
      "source": [
        "mnist_classifier = build_discriminator_supervised(\n",
        "                         build_discriminator(img_shape))     \n",
        "\n",
        "mnist_classifier.compile(loss='sparse_categorical_crossentropy',\n",
        "                         metrics=['accuracy'],\n",
        "                         optimizer=Adam())"
      ],
      "execution_count": 24,
      "outputs": []
    },
    {
      "cell_type": "code",
      "metadata": {
        "colab": {
          "base_uri": "https://localhost:8080/"
        },
        "id": "zgNcvYKwouVl",
        "outputId": "633d2f52-c0cb-4018-d535-acd0d5e53b30"
      },
      "source": [
        "x_train,y_train =dataset.batch_labeled(100)\n",
        "mnist_classifier.fit(x=x_train,y=y_train,epochs=100)"
      ],
      "execution_count": 25,
      "outputs": [
        {
          "output_type": "stream",
          "text": [
            "Epoch 1/100\n",
            "4/4 [==============================] - 1s 16ms/step - loss: 2.6740 - accuracy: 0.1300\n",
            "Epoch 2/100\n",
            "4/4 [==============================] - 0s 19ms/step - loss: 0.9137 - accuracy: 0.6882\n",
            "Epoch 3/100\n",
            "4/4 [==============================] - 0s 22ms/step - loss: 0.3957 - accuracy: 0.9447\n",
            "Epoch 4/100\n",
            "4/4 [==============================] - 0s 18ms/step - loss: 0.2594 - accuracy: 0.9447\n",
            "Epoch 5/100\n",
            "4/4 [==============================] - 0s 17ms/step - loss: 0.1866 - accuracy: 0.9693\n",
            "Epoch 6/100\n",
            "4/4 [==============================] - 0s 19ms/step - loss: 0.1091 - accuracy: 0.9753\n",
            "Epoch 7/100\n",
            "4/4 [==============================] - 0s 16ms/step - loss: 0.0588 - accuracy: 0.9939\n",
            "Epoch 8/100\n",
            "4/4 [==============================] - 0s 16ms/step - loss: 0.0458 - accuracy: 1.0000\n",
            "Epoch 9/100\n",
            "4/4 [==============================] - 0s 19ms/step - loss: 0.0222 - accuracy: 1.0000\n",
            "Epoch 10/100\n",
            "4/4 [==============================] - 0s 16ms/step - loss: 0.0217 - accuracy: 1.0000\n",
            "Epoch 11/100\n",
            "4/4 [==============================] - 0s 16ms/step - loss: 0.0162 - accuracy: 1.0000\n",
            "Epoch 12/100\n",
            "4/4 [==============================] - 0s 16ms/step - loss: 0.0195 - accuracy: 1.0000\n",
            "Epoch 13/100\n",
            "4/4 [==============================] - 0s 18ms/step - loss: 0.0092 - accuracy: 1.0000\n",
            "Epoch 14/100\n",
            "4/4 [==============================] - 0s 16ms/step - loss: 0.0115 - accuracy: 1.0000\n",
            "Epoch 15/100\n",
            "4/4 [==============================] - 0s 16ms/step - loss: 0.0092 - accuracy: 1.0000\n",
            "Epoch 16/100\n",
            "4/4 [==============================] - 0s 16ms/step - loss: 0.0104 - accuracy: 1.0000\n",
            "Epoch 17/100\n",
            "4/4 [==============================] - 0s 19ms/step - loss: 0.0065 - accuracy: 1.0000\n",
            "Epoch 18/100\n",
            "4/4 [==============================] - 0s 18ms/step - loss: 0.0062 - accuracy: 1.0000\n",
            "Epoch 19/100\n",
            "4/4 [==============================] - 0s 16ms/step - loss: 0.0032 - accuracy: 1.0000\n",
            "Epoch 20/100\n",
            "4/4 [==============================] - 0s 20ms/step - loss: 0.0059 - accuracy: 1.0000\n",
            "Epoch 21/100\n",
            "4/4 [==============================] - 0s 16ms/step - loss: 0.0067 - accuracy: 1.0000\n",
            "Epoch 22/100\n",
            "4/4 [==============================] - 0s 16ms/step - loss: 0.0039 - accuracy: 1.0000\n",
            "Epoch 23/100\n",
            "4/4 [==============================] - 0s 16ms/step - loss: 0.0046 - accuracy: 1.0000\n",
            "Epoch 24/100\n",
            "4/4 [==============================] - 0s 18ms/step - loss: 0.0039 - accuracy: 1.0000\n",
            "Epoch 25/100\n",
            "4/4 [==============================] - 0s 18ms/step - loss: 0.0048 - accuracy: 1.0000\n",
            "Epoch 26/100\n",
            "4/4 [==============================] - 0s 16ms/step - loss: 0.0022 - accuracy: 1.0000\n",
            "Epoch 27/100\n",
            "4/4 [==============================] - 0s 22ms/step - loss: 0.0043 - accuracy: 1.0000\n",
            "Epoch 28/100\n",
            "4/4 [==============================] - 0s 20ms/step - loss: 0.0030 - accuracy: 1.0000\n",
            "Epoch 29/100\n",
            "4/4 [==============================] - 0s 16ms/step - loss: 0.0024 - accuracy: 1.0000\n",
            "Epoch 30/100\n",
            "4/4 [==============================] - 0s 16ms/step - loss: 0.0046 - accuracy: 1.0000\n",
            "Epoch 31/100\n",
            "4/4 [==============================] - 0s 19ms/step - loss: 0.0038 - accuracy: 1.0000\n",
            "Epoch 32/100\n",
            "4/4 [==============================] - 0s 18ms/step - loss: 0.0024 - accuracy: 1.0000\n",
            "Epoch 33/100\n",
            "4/4 [==============================] - 0s 16ms/step - loss: 0.0032 - accuracy: 1.0000\n",
            "Epoch 34/100\n",
            "4/4 [==============================] - 0s 16ms/step - loss: 0.0019 - accuracy: 1.0000\n",
            "Epoch 35/100\n",
            "4/4 [==============================] - 0s 18ms/step - loss: 0.0029 - accuracy: 1.0000\n",
            "Epoch 36/100\n",
            "4/4 [==============================] - 0s 16ms/step - loss: 0.0015 - accuracy: 1.0000\n",
            "Epoch 37/100\n",
            "4/4 [==============================] - 0s 16ms/step - loss: 0.0019 - accuracy: 1.0000\n",
            "Epoch 38/100\n",
            "4/4 [==============================] - 0s 18ms/step - loss: 0.0021 - accuracy: 1.0000\n",
            "Epoch 39/100\n",
            "4/4 [==============================] - 0s 19ms/step - loss: 0.0021 - accuracy: 1.0000\n",
            "Epoch 40/100\n",
            "4/4 [==============================] - 0s 16ms/step - loss: 0.0022 - accuracy: 1.0000\n",
            "Epoch 41/100\n",
            "4/4 [==============================] - 0s 19ms/step - loss: 0.0017 - accuracy: 1.0000\n",
            "Epoch 42/100\n",
            "4/4 [==============================] - 0s 16ms/step - loss: 0.0019 - accuracy: 1.0000\n",
            "Epoch 43/100\n",
            "4/4 [==============================] - 0s 16ms/step - loss: 0.0014 - accuracy: 1.0000\n",
            "Epoch 44/100\n",
            "4/4 [==============================] - 0s 17ms/step - loss: 0.0014 - accuracy: 1.0000\n",
            "Epoch 45/100\n",
            "4/4 [==============================] - 0s 16ms/step - loss: 0.0015 - accuracy: 1.0000\n",
            "Epoch 46/100\n",
            "4/4 [==============================] - 0s 17ms/step - loss: 0.0016 - accuracy: 1.0000\n",
            "Epoch 47/100\n",
            "4/4 [==============================] - 0s 16ms/step - loss: 0.0021 - accuracy: 1.0000\n",
            "Epoch 48/100\n",
            "4/4 [==============================] - 0s 18ms/step - loss: 0.0019 - accuracy: 1.0000\n",
            "Epoch 49/100\n",
            "4/4 [==============================] - 0s 18ms/step - loss: 0.0012 - accuracy: 1.0000\n",
            "Epoch 50/100\n",
            "4/4 [==============================] - 0s 16ms/step - loss: 0.0025 - accuracy: 1.0000\n",
            "Epoch 51/100\n",
            "4/4 [==============================] - 0s 18ms/step - loss: 0.0027 - accuracy: 1.0000\n",
            "Epoch 52/100\n",
            "4/4 [==============================] - 0s 19ms/step - loss: 0.0016 - accuracy: 1.0000\n",
            "Epoch 53/100\n",
            "4/4 [==============================] - 0s 22ms/step - loss: 8.8797e-04 - accuracy: 1.0000\n",
            "Epoch 54/100\n",
            "4/4 [==============================] - 0s 23ms/step - loss: 0.0012 - accuracy: 1.0000\n",
            "Epoch 55/100\n",
            "4/4 [==============================] - 0s 18ms/step - loss: 0.0014 - accuracy: 1.0000\n",
            "Epoch 56/100\n",
            "4/4 [==============================] - 0s 16ms/step - loss: 0.0021 - accuracy: 1.0000\n",
            "Epoch 57/100\n",
            "4/4 [==============================] - 0s 16ms/step - loss: 0.0011 - accuracy: 1.0000\n",
            "Epoch 58/100\n",
            "4/4 [==============================] - 0s 17ms/step - loss: 9.4430e-04 - accuracy: 1.0000\n",
            "Epoch 59/100\n",
            "4/4 [==============================] - 0s 21ms/step - loss: 0.0017 - accuracy: 1.0000\n",
            "Epoch 60/100\n",
            "4/4 [==============================] - 0s 17ms/step - loss: 0.0011 - accuracy: 1.0000\n",
            "Epoch 61/100\n",
            "4/4 [==============================] - 0s 18ms/step - loss: 0.0010 - accuracy: 1.0000\n",
            "Epoch 62/100\n",
            "4/4 [==============================] - 0s 16ms/step - loss: 0.0010 - accuracy: 1.0000\n",
            "Epoch 63/100\n",
            "4/4 [==============================] - 0s 18ms/step - loss: 8.4516e-04 - accuracy: 1.0000\n",
            "Epoch 64/100\n",
            "4/4 [==============================] - 0s 21ms/step - loss: 0.0011 - accuracy: 1.0000\n",
            "Epoch 65/100\n",
            "4/4 [==============================] - 0s 24ms/step - loss: 0.0016 - accuracy: 1.0000\n",
            "Epoch 66/100\n",
            "4/4 [==============================] - 0s 18ms/step - loss: 7.9734e-04 - accuracy: 1.0000\n",
            "Epoch 67/100\n",
            "4/4 [==============================] - 0s 22ms/step - loss: 8.5030e-04 - accuracy: 1.0000\n",
            "Epoch 68/100\n",
            "4/4 [==============================] - 0s 16ms/step - loss: 0.0010 - accuracy: 1.0000\n",
            "Epoch 69/100\n",
            "4/4 [==============================] - 0s 18ms/step - loss: 0.0027 - accuracy: 1.0000\n",
            "Epoch 70/100\n",
            "4/4 [==============================] - 0s 16ms/step - loss: 0.0013 - accuracy: 1.0000\n",
            "Epoch 71/100\n",
            "4/4 [==============================] - 0s 17ms/step - loss: 0.0011 - accuracy: 1.0000\n",
            "Epoch 72/100\n",
            "4/4 [==============================] - 0s 18ms/step - loss: 0.0012 - accuracy: 1.0000\n",
            "Epoch 73/100\n",
            "4/4 [==============================] - 0s 16ms/step - loss: 8.2440e-04 - accuracy: 1.0000\n",
            "Epoch 74/100\n",
            "4/4 [==============================] - 0s 17ms/step - loss: 7.2620e-04 - accuracy: 1.0000\n",
            "Epoch 75/100\n",
            "4/4 [==============================] - 0s 19ms/step - loss: 7.9908e-04 - accuracy: 1.0000\n",
            "Epoch 76/100\n",
            "4/4 [==============================] - 0s 18ms/step - loss: 0.0011 - accuracy: 1.0000\n",
            "Epoch 77/100\n",
            "4/4 [==============================] - 0s 22ms/step - loss: 8.0820e-04 - accuracy: 1.0000\n",
            "Epoch 78/100\n",
            "4/4 [==============================] - 0s 17ms/step - loss: 7.5698e-04 - accuracy: 1.0000\n",
            "Epoch 79/100\n",
            "4/4 [==============================] - 0s 16ms/step - loss: 0.0014 - accuracy: 1.0000\n",
            "Epoch 80/100\n",
            "4/4 [==============================] - 0s 18ms/step - loss: 0.0010 - accuracy: 1.0000\n",
            "Epoch 81/100\n",
            "4/4 [==============================] - 0s 18ms/step - loss: 0.0011 - accuracy: 1.0000\n",
            "Epoch 82/100\n",
            "4/4 [==============================] - 0s 16ms/step - loss: 8.7976e-04 - accuracy: 1.0000\n",
            "Epoch 83/100\n",
            "4/4 [==============================] - 0s 17ms/step - loss: 5.7731e-04 - accuracy: 1.0000\n",
            "Epoch 84/100\n",
            "4/4 [==============================] - 0s 16ms/step - loss: 7.7688e-04 - accuracy: 1.0000\n",
            "Epoch 85/100\n",
            "4/4 [==============================] - 0s 18ms/step - loss: 7.7924e-04 - accuracy: 1.0000\n",
            "Epoch 86/100\n",
            "4/4 [==============================] - 0s 22ms/step - loss: 0.0010 - accuracy: 1.0000\n",
            "Epoch 87/100\n",
            "4/4 [==============================] - 0s 16ms/step - loss: 5.0272e-04 - accuracy: 1.0000\n",
            "Epoch 88/100\n",
            "4/4 [==============================] - 0s 20ms/step - loss: 6.6675e-04 - accuracy: 1.0000\n",
            "Epoch 89/100\n",
            "4/4 [==============================] - 0s 22ms/step - loss: 5.9721e-04 - accuracy: 1.0000\n",
            "Epoch 90/100\n",
            "4/4 [==============================] - 0s 16ms/step - loss: 8.6270e-04 - accuracy: 1.0000\n",
            "Epoch 91/100\n",
            "4/4 [==============================] - 0s 16ms/step - loss: 7.0539e-04 - accuracy: 1.0000\n",
            "Epoch 92/100\n",
            "4/4 [==============================] - 0s 18ms/step - loss: 6.3093e-04 - accuracy: 1.0000\n",
            "Epoch 93/100\n",
            "4/4 [==============================] - 0s 17ms/step - loss: 5.5756e-04 - accuracy: 1.0000\n",
            "Epoch 94/100\n",
            "4/4 [==============================] - 0s 18ms/step - loss: 4.0000e-04 - accuracy: 1.0000\n",
            "Epoch 95/100\n",
            "4/4 [==============================] - 0s 18ms/step - loss: 6.1752e-04 - accuracy: 1.0000\n",
            "Epoch 96/100\n",
            "4/4 [==============================] - 0s 17ms/step - loss: 4.0933e-04 - accuracy: 1.0000\n",
            "Epoch 97/100\n",
            "4/4 [==============================] - 0s 17ms/step - loss: 3.9291e-04 - accuracy: 1.0000\n",
            "Epoch 98/100\n",
            "4/4 [==============================] - 0s 19ms/step - loss: 4.7360e-04 - accuracy: 1.0000\n",
            "Epoch 99/100\n",
            "4/4 [==============================] - 0s 16ms/step - loss: 5.7632e-04 - accuracy: 1.0000\n",
            "Epoch 100/100\n",
            "4/4 [==============================] - 0s 18ms/step - loss: 2.6440e-04 - accuracy: 1.0000\n"
          ],
          "name": "stdout"
        },
        {
          "output_type": "execute_result",
          "data": {
            "text/plain": [
              "<keras.callbacks.History at 0x7f695757f110>"
            ]
          },
          "metadata": {
            "tags": []
          },
          "execution_count": 25
        }
      ]
    },
    {
      "cell_type": "code",
      "metadata": {
        "colab": {
          "base_uri": "https://localhost:8080/"
        },
        "id": "AAH34I8EowOj",
        "outputId": "cbd89af5-a097-4a2b-e023-f22335caa747"
      },
      "source": [
        "x,y = dataset.testing_set()\n",
        "_,accuracy = mnist_classifier.evaluate(x,y)\n",
        "print(\"Test Accuracy for fully supervised classifier:\",accuracy*100)"
      ],
      "execution_count": 26,
      "outputs": [
        {
          "output_type": "stream",
          "text": [
            "313/313 [==============================] - 3s 7ms/step - loss: 1.2676 - accuracy: 0.6086\n",
            "Test Accuracy for fully supervised classifier: 60.86000204086304\n"
          ],
          "name": "stdout"
        }
      ]
    },
    {
      "cell_type": "code",
      "metadata": {
        "id": "qzc8feqXozWA"
      },
      "source": [
        ""
      ],
      "execution_count": null,
      "outputs": []
    }
  ]
}